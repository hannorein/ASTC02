{
 "cells": [
  {
   "cell_type": "markdown",
   "metadata": {
    "deletable": true,
    "editable": true
   },
   "source": [
    "# ASTC02 Popcorn "
   ]
  },
  {
   "cell_type": "code",
   "execution_count": 1,
   "metadata": {
    "collapsed": false,
    "deletable": true,
    "editable": true
   },
   "outputs": [
    {
     "data": {
      "application/vnd.jupyter.widget-view+json": {
       "model_id": "96bdd735dd9b4aed827d2a096a1b0a53"
      }
     },
     "metadata": {},
     "output_type": "display_data"
    }
   ],
   "source": [
    "import ipywidgets as widgets\n",
    "from functools import partial\n",
    "from IPython.display import display\n",
    "import datetime\n",
    "import numpy as np\n",
    "import scipy.stats as stats\n",
    "import matplotlib.pyplot as plt\n",
    "\n",
    "class Counter:\n",
    "    def __init__(self):\n",
    "        self.offset = None\n",
    "        self.values = []\n",
    "\n",
    "    def increment(self, seconds):\n",
    "        self.values.append(seconds-offset)\n",
    "        return self.values\n",
    "\n",
    "    def __iter__(self, sentinal=False):\n",
    "        return iter(self.increment, sentinal)\n",
    "    \n",
    "def button_callback(counter, w):\n",
    "    now = datetime.datetime.now()\n",
    "    midnight = now.replace(hour=0, minute=0, second=0, microsecond=0)\n",
    "    seconds = (now - midnight).seconds\n",
    "    counter.increment(seconds)  \n",
    "    \n",
    "now = datetime.datetime.now()\n",
    "midnight = now.replace(hour=0, minute=0, second=0, microsecond=0)\n",
    "offset = (now - midnight).seconds\n",
    "\n",
    "    \n",
    "\n",
    "counter = Counter()\n",
    "w = widgets.Button(description='Pop')\n",
    "w.on_click(partial(button_callback, counter))\n",
    "display(w)"
   ]
  },
  {
   "cell_type": "code",
   "execution_count": 5,
   "metadata": {
    "collapsed": false,
    "deletable": true,
    "editable": true,
    "scrolled": false
   },
   "outputs": [
    {
     "data": {
      "image/png": "[encoded data removed]",
      "text/plain": [
       "<matplotlib.figure.Figure at 0x109085588>"
      ]
     },
     "metadata": {},
     "output_type": "display_data"
    }
   ],
   "source": [
    "bin_sec = 1\n",
    "values = np.array(counter.values)/bin_sec\n",
    "fix, ax = plt.subplots(1,1,figsize=(14,5)) \n",
    "plt.hist(values*bin_sec,int(np.max(values)),range=(0.,np.max(values)),histtype='bar')\n",
    "plt.show();"
   ]
  },
  {
   "cell_type": "code",
   "execution_count": 6,
   "metadata": {
    "collapsed": false,
    "deletable": true,
    "editable": true
   },
   "outputs": [
    {
     "data": {
      "image/png": "[encoded data removed]",
      "text/plain": [
       "<matplotlib.figure.Figure at 0x1093b1550>"
      ]
     },
     "metadata": {},
     "output_type": "display_data"
    }
   ],
   "source": [
    "measurements = np.array(counter.values)/bin_sec\n",
    "stats.probplot(measurements, dist=\"norm\", plot=plt)\n",
    "plt.show()"
   ]
  },
  {
   "cell_type": "code",
   "execution_count": null,
   "metadata": {
    "collapsed": true
   },
   "outputs": [],
   "source": []
  }
 ],
 "metadata": {
  "kernelspec": {
   "display_name": "Python 3",
   "language": "python",
   "name": "python3"
  },
  "language_info": {
   "codemirror_mode": {
    "name": "ipython",
    "version": 3
   },
   "file_extension": ".py",
   "mimetype": "text/x-python",
   "name": "python",
   "nbconvert_exporter": "python",
   "pygments_lexer": "ipython3",
   "version": "3.5.2"
  }
 },
 "nbformat": 4,
 "nbformat_minor": 2
}
