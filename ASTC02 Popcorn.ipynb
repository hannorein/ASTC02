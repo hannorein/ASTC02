{
 "cells": [
  {
   "cell_type": "markdown",
   "metadata": {
    "deletable": true,
    "editable": true
   },
   "source": [
    "# ASTC02 Popcorn "
   ]
  },
  {
   "cell_type": "code",
   "execution_count": 38,
   "metadata": {
    "collapsed": false,
    "deletable": true,
    "editable": true
   },
   "outputs": [
    {
     "name": "stderr",
     "output_type": "stream",
     "text": [
      "Widget Javascript not detected.  It may not be installed or enabled properly.\n"
     ]
    },
    {
     "data": {
      "application/vnd.jupyter.widget-view+json": {
       "model_id": "f8924d7768564ef9a74646376dcbe17c"
      }
     },
     "metadata": {},
     "output_type": "display_data"
    }
   ],
   "source": [
    "import ipywidgets as widgets\n",
    "from functools import partial\n",
    "from IPython.display import display\n",
    "import datetime\n",
    "import numpy as np\n",
    "import matplotlib.pyplot as plt\n",
    "\n",
    "class Counter:\n",
    "    def __init__(self):\n",
    "        self.offset = None\n",
    "        self.values = []\n",
    "\n",
    "    def increment(self, seconds):\n",
    "        self.values.append(seconds-offset)\n",
    "        return self.values\n",
    "\n",
    "    def __iter__(self, sentinal=False):\n",
    "        return iter(self.increment, sentinal)\n",
    "    \n",
    "def button_callback(counter, w):\n",
    "    now = datetime.datetime.now()\n",
    "    midnight = now.replace(hour=0, minute=0, second=0, microsecond=0)\n",
    "    seconds = (now - midnight).seconds\n",
    "    counter.increment(seconds)  \n",
    "    \n",
    "now = datetime.datetime.now()\n",
    "midnight = now.replace(hour=0, minute=0, second=0, microsecond=0)\n",
    "offset = (now - midnight).seconds\n",
    "\n",
    "    \n",
    "\n",
    "counter = Counter()\n",
    "w = widgets.Button(description='Pop')\n",
    "w.on_click(partial(button_callback, counter))\n",
    "display(w)"
   ]
  },
  {
   "cell_type": "code",
   "execution_count": 42,
   "metadata": {
    "collapsed": false,
    "deletable": true,
    "editable": true,
    "scrolled": false
   },
   "outputs": [
    {
     "data": {
      "image/png": "[encoded data removed]",
      "text/plain": [
       "<matplotlib.figure.Figure at 0x10cf480b8>"
      ]
     },
     "metadata": {},
     "output_type": "display_data"
    }
   ],
   "source": [
    "bin_sec = 1\n",
    "values = np.array(counter.values)/bin_sec\n",
    "fix, ax = plt.subplots(1,1,figsize=(14,5)) \n",
    "plt.hist(values*bin_sec,int(np.max(values)),range=(0.,np.max(values)),histtype='bar')\n",
    "plt.show();"
   ]
  },
  {
   "cell_type": "code",
   "execution_count": 45,
   "metadata": {
    "collapsed": false,
    "deletable": true,
    "editable": true
   },
   "outputs": [
    {
     "data": {
      "image/png": "[encoded data removed]",
      "text/plain": [
       "<matplotlib.figure.Figure at 0x110007940>"
      ]
     },
     "metadata": {},
     "output_type": "display_data"
    }
   ],
   "source": [
    "import numpy as np \n",
    "import pylab \n",
    "import scipy.stats as stats\n",
    "\n",
    "measurements = np.array(counter.values)/bin_sec\n",
    "stats.probplot(measurements, dist=\"norm\", plot=pylab)\n",
    "pylab.show()"
   ]
  },
  {
   "cell_type": "code",
   "execution_count": null,
   "metadata": {
    "collapsed": true
   },
   "outputs": [],
   "source": []
  }
 ],
 "metadata": {
  "kernelspec": {
   "display_name": "Python 3",
   "language": "python",
   "name": "python3"
  }
 },
 "nbformat": 4,
 "nbformat_minor": 2
}
