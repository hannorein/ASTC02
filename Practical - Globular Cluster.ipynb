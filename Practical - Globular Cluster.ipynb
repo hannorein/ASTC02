{
 "cells": [
  {
   "cell_type": "markdown",
   "metadata": {
    "deletable": true,
    "editable": true
   },
   "source": [
    "# ASTC02 - Practical 2 - Globular Cluster"
   ]
  },
  {
   "cell_type": "markdown",
   "metadata": {
    "deletable": true,
    "editable": true
   },
   "source": [
    "In this practical, you will meassure the radial profile of a globular cluster. The radial distribution can then be compared to models and reveal the age, the total mass and other physical parameters about the cluster. "
   ]
  },
  {
   "cell_type": "markdown",
   "metadata": {
    "deletable": true,
    "editable": true
   },
   "source": [
    "## 1. Finding a suitable globular cluster\n",
    "\n",
    "Make a list of all globular clusters in the Messier catalogue. Write down their coordinates in Right Ascension and Declination as well as their apparent magnitude. \n",
    "\n",
    "Choose on object you want to observe. Consider the folllwing criteria when selecting an object:\n",
    "- The object's visibility in Toronto this fall\n",
    "- The object's brightness."
   ]
  },
  {
   "cell_type": "markdown",
   "metadata": {
    "deletable": true,
    "editable": true
   },
   "source": [
    "## 2. Make an observation plan  \n",
    "\n",
    "After you have chosen which object you want to observe, make an observation plan which includes a time line for the day with the following events:\n",
    "- A list with the times at which the object rises and sets.\n",
    "- A start time for the observing (immediately after sunset? What level of darkness is required for this observation?).\n",
    "- Estimate how long it will take to align the telescope, focus it, slew to the target, take the observations, realign, slew to the next, etc.\n",
    "- Think about how many images you can reasonably take during a 2 hour window."
   ]
  },
  {
   "cell_type": "markdown",
   "metadata": {
    "deletable": true,
    "editable": true
   },
   "source": [
    "## 3. Take observations\n",
    "A few things to keep in mind when you're taking observations of the globular cluster:\n",
    "- Taking dark and flat fields is crucial for this observation!\n",
    "- Make sure you budget in time for dark and flat frames. \n",
    "- Also absolutely crucial is that you do not saturate the image. Even in the centre of the globular cluster, each channel should be below the saturation limit. You might want to have a long exposure time and a high ISO number initially to find the object. But then make sure you reduce the exposure time and ISO number to avoid a saturation. \n",
    "- Make sure the telescope is focused. You might want to focus the telescope on a nearby bright star, not the globular cluster itself. \n",
    "\n",
    "As for the other practicals, you can setup stellarium to give you a preview of the image you'll take: You'll need the following parameters to set this up:\n",
    "- Focal length: 1600 mm\n",
    "- CCD sensor: 4272x2848 pixels, 22.2x14.8 mm sensor size, 5.2x5.2 micron pixel size"
   ]
  },
  {
   "cell_type": "markdown",
   "metadata": {
    "deletable": true,
    "editable": true
   },
   "source": [
    "## 4. Data analysis of the cluster\n",
    "We will talk about this in the lectures first. In short:\n",
    "- Calibrate the images with your flat and dark frames.\n",
    "- Then align the images to compensate the any slow dirft of the telescope.\n",
    "- Stack the images.\n",
    "- Fit for the centre of the globular cluster.\n",
    "- Calculate the radial profile of the globular cluster by summing up all pixel within a certain radius bin from the centre. "
   ]
  },
  {
   "cell_type": "code",
   "execution_count": null,
   "metadata": {
    "collapsed": true,
    "deletable": true,
    "editable": true
   },
   "outputs": [],
   "source": []
  }
 ],
 "metadata": {
  "kernelspec": {
   "display_name": "Python 3",
   "language": "python",
   "name": "python3"
  },
  "language_info": {
   "codemirror_mode": {
    "name": "ipython",
    "version": 3
   },
   "file_extension": ".py",
   "mimetype": "text/x-python",
   "name": "python",
   "nbconvert_exporter": "python",
   "pygments_lexer": "ipython3",
   "version": "3.5.2"
  }
 },
 "nbformat": 4,
 "nbformat_minor": 2
}
