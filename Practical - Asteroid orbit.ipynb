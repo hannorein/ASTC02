{
 "cells": [
  {
   "cell_type": "markdown",
   "metadata": {
    "deletable": true,
    "editable": true
   },
   "source": [
    "# ASTC02 - Practical 1 - Asteroid and Planet Orbits"
   ]
  },
  {
   "cell_type": "markdown",
   "metadata": {
    "deletable": true,
    "editable": true
   },
   "source": [
    "In this practical, you will determine, or at least constrain, the orbits of up to three asteroids and planets. To do this, you will observe these objects multiple times throughout the term. Stellarium already knows the orbits of the objects and we will use that to point the telescope in the approximate direction, but not when it comes to the determination of the orbit."
   ]
  },
  {
   "cell_type": "markdown",
   "metadata": {
    "deletable": true,
    "editable": true
   },
   "source": [
    "We will observe the following asteroids and planets:\n",
    "  - Kleopatra\n",
    "  - Phocaea\n",
    "  - Pluto"
   ]
  },
  {
   "cell_type": "markdown",
   "metadata": {
    "deletable": true,
    "editable": true
   },
   "source": [
    "## 1. Background\n",
    "\n",
    "Find all objects in stellarium. You might have to enable a plugin that allows you to display the asteroids. Then go to wikipedia or another online resource and look up the basic properties of the asteroid. This is a bit of cheating of course. Had we just discovered this object, we could not look up anything!\n",
    "\n",
    "In particular, look up:\n",
    "- semi-major axis\n",
    "- eccentricity\n",
    "- inclination \n",
    "- mass\n",
    "- radius\n",
    "- apparent magnitude"
   ]
  },
  {
   "cell_type": "markdown",
   "metadata": {
    "deletable": true,
    "editable": true
   },
   "source": [
    "## 2. Make an observation plan  \n",
    "\n",
    "Your observation plan should include a time line for the day with the following events:\n",
    "- A list with the times at which the object rises and sets.\n",
    "- A start time for the observing (immediately after sunset? What level of darkness is required for this observation?).\n",
    "- Choose an order of observations for the three objects. Take into account that with the mount of the UTSC telescope, we want to minimize the number of times we swap the side of the sky from East to West and vice versa.\n",
    "- Estimate how long it will take to align the telescope, focus it, slew to the target, take the observations, realign, slew to the next, etc.\n",
    "- Think about how many images you want to take.\n",
    "\n",
    "Estimate if it makes sense to revisit the same object 1 hour later. Will it be at the same position or will it have moved?\n",
    "\n",
    "Are all objects visible each Tuesday this term?"
   ]
  },
  {
   "cell_type": "markdown",
   "metadata": {
    "deletable": true,
    "editable": true
   },
   "source": [
    "## 3. Take observations\n",
    "A few things to keep in mind when you're taking observations of asteroids:\n",
    "- Since we're only interested in the location, you don't need to take any dark or flat frames. However, taking anyway is good practice.\n",
    "- Keep a log of the precise time when you took the images (alternatively make sure the timestamp on the image file is accurate)\n",
    "- Make sure the object is actually in the frame!\n",
    "\n",
    "You can setup stellarium to give you a preview of the image you'll take (aside from the orientation). This is very helpful if you want to identify which dot in the image corresponds to your object. You'll need the following parameters to set this up:\n",
    "- Focal length: 1600 mm\n",
    "- CCD sensor: 4272x2848 pixels, 22.2x14.8 mm sensor size, 5.2x5.2 micron pixel size"
   ]
  },
  {
   "cell_type": "markdown",
   "metadata": {
    "deletable": true,
    "editable": true
   },
   "source": [
    "## 4. Estimate orbital parameters\n",
    "We will do this together in the lectures."
   ]
  },
  {
   "cell_type": "code",
   "execution_count": null,
   "metadata": {
    "collapsed": true,
    "deletable": true,
    "editable": true
   },
   "outputs": [],
   "source": []
  }
 ],
 "metadata": {
  "kernelspec": {
   "display_name": "Python 3",
   "language": "python",
   "name": "python3"
  },
  "language_info": {
   "codemirror_mode": {
    "name": "ipython",
    "version": 3
   },
   "file_extension": ".py",
   "mimetype": "text/x-python",
   "name": "python",
   "nbconvert_exporter": "python",
   "pygments_lexer": "ipython3",
   "version": "3.5.2"
  }
 },
 "nbformat": 4,
 "nbformat_minor": 2
}
