{
 "cells": [
  {
   "cell_type": "markdown",
   "metadata": {},
   "source": [
    "# Radial Profiles of Star Clusters \n",
    "Part of Prof. Hanno Rein's ASTC02 course on Practical Astronomy. \n",
    "In this tutorial, we will read in an image and extract the radial profile of a star cluster with python. You will need to do this for your lab report. However, in addition to what is shown in this tutorial you should also:\n",
    "- Use RAW files instead of a JPG image\n",
    "- Do a dark and flat field correction of your image before processing it"
   ]
  },
  {
   "cell_type": "code",
   "execution_count": null,
   "metadata": {},
   "outputs": [],
   "source": [
    "from scipy import ndimage, misc, optimize\n",
    "import numpy as np\n",
    "from mpldatacursor import datacursor\n",
    "import matplotlib.pyplot as plt\n",
    "%matplotlib nbagg"
   ]
  },
  {
   "cell_type": "markdown",
   "metadata": {},
   "source": [
    "Here, we use a simple JPG image of M3 as a test case. "
   ]
  },
  {
   "cell_type": "code",
   "execution_count": null,
   "metadata": {},
   "outputs": [],
   "source": [
    "m3 = np.average(misc.imread('m3.jpg'),axis=2)"
   ]
  },
  {
   "cell_type": "markdown",
   "metadata": {},
   "source": [
    "Note that we have have averaged the colorr components. Colour is not important for this analysis and we get a slightly better signal to noise ratio by averaging them, rather than just picking one. If you pick just one, use the red channel as our camera is most sensitive in the red part of the spectrum."
   ]
  },
  {
   "cell_type": "code",
   "execution_count": null,
   "metadata": {
    "scrolled": false
   },
   "outputs": [],
   "source": [
    "fig, ax = plt.subplots(1, 1, figsize=(7, 5))\n",
    "ax.imshow(m3);\n",
    "dc = datacursor(ax)"
   ]
  },
  {
   "cell_type": "markdown",
   "metadata": {},
   "source": [
    "# Calibration"
   ]
  },
  {
   "cell_type": "markdown",
   "metadata": {},
   "source": [
    "We need to calibrate the image. To do that we need the brightness of a reference star. Look up in stellarium which stars there are in the above image and write down their magnitude in the V band (visible light). This is not exactly the right filter for our camera, but it'll do for our purposes."
   ]
  },
  {
   "cell_type": "markdown",
   "metadata": {},
   "source": [
    "Click on one reference star above, then execute the following cell to extract the image around the star and sum up all the pixels."
   ]
  },
  {
   "cell_type": "code",
   "execution_count": null,
   "metadata": {
    "scrolled": false
   },
   "outputs": [],
   "source": [
    "x, y = [int(t) for t in dc.annotations[ax].xy]\n",
    "print(x,y)\n",
    "m3cs1 = m3[y-50:y+50,x-50:x+50] # top left V 9.8  / bottom left V 10.5\n",
    "s1 = np.sum(m3cs1)\n",
    "print(s1)\n",
    "\n",
    "fig, axn = plt.subplots(1, 1, figsize=(3, 3))\n",
    "axn.imshow(m3cs1,vmin=0,vmax=260)"
   ]
  },
  {
   "cell_type": "markdown",
   "metadata": {},
   "source": [
    "Repeat the above with a different reference star."
   ]
  },
  {
   "cell_type": "code",
   "execution_count": null,
   "metadata": {},
   "outputs": [],
   "source": [
    "x, y = [int(t) for t in dc.annotations[ax].xy]\n",
    "print(x,y)\n",
    "m3cs2 = m3[y-50:y+50,x-50:x+50] # top left V 9.8  / bottom left V 10.5\n",
    "s2 = np.sum(m3cs2)\n",
    "print(s2)\n",
    "\n",
    "fig, axn = plt.subplots(1, 1, figsize=(3, 3))\n",
    "axn.imshow(m3cs2,vmin=0,vmax=260)"
   ]
  },
  {
   "cell_type": "markdown",
   "metadata": {},
   "source": [
    "Calculate the relative brightness of the two stars relative to each toher. To convert the sum of all the pixel values to a magnitude, you need to take the log and normalize it with respect to 2.512 (the magic number in astornomy, which is purely historical, but apparently is somehow related to "
   ]
  },
  {
   "cell_type": "code",
   "execution_count": null,
   "metadata": {},
   "outputs": [],
   "source": [
    "np.log(s1/s2)/np.log(2.512) # should be 10.5-9.8 = 0.7"
   ]
  },
  {
   "cell_type": "markdown",
   "metadata": {},
   "source": [
    "# Brightness of the cluster"
   ]
  },
  {
   "cell_type": "markdown",
   "metadata": {},
   "source": [
    "Click roughly on the centre of the star cluster to get the coordinates."
   ]
  },
  {
   "cell_type": "code",
   "execution_count": null,
   "metadata": {},
   "outputs": [],
   "source": [
    "x, y = [int(t) for t in dc.annotations[ax].xy]\n",
    "m3c = m3[y-500:y+500,x-500:x+500] \n",
    "s3 = np.sum(m3c)\n",
    "\n",
    "fig, ax3 = plt.subplots(1, 1, figsize=(4, 4))\n",
    "ax3.imshow(m3c,vmin=0,vmax=260)"
   ]
  },
  {
   "cell_type": "code",
   "execution_count": null,
   "metadata": {},
   "outputs": [],
   "source": [
    "magV = np.log(s1/s3)/np.log(2.512)+10.5 ## should be V 6.2\n",
    "magV"
   ]
  },
  {
   "cell_type": "markdown",
   "metadata": {},
   "source": [
    "# Luminosity"
   ]
  },
  {
   "cell_type": "markdown",
   "metadata": {},
   "source": [
    "We can calculate the absolute luminosity if we know the distance. It's hard to measure the distance, so for this course it's ok to look it up. We want to express the absolute brightness in units of the Sun's absolute brightness. The relative brightness of the Sun in the V band is -26.74.\n",
    "\n",
    "First, let's calculate the flux ratio."
   ]
  },
  {
   "cell_type": "code",
   "execution_count": null,
   "metadata": {},
   "outputs": [],
   "source": [
    "fluxratio = 2.512**(-26.74-magV)\n",
    "fluxratio"
   ]
  },
  {
   "cell_type": "markdown",
   "metadata": {},
   "source": [
    "Next, I give you the distance to this cluster in astronomical units. This is the distance ratio."
   ]
  },
  {
   "cell_type": "code",
   "execution_count": null,
   "metadata": {},
   "outputs": [],
   "source": [
    "distance = 10.4e3*206264.81 # 10.4kpc in au\n",
    "distance"
   ]
  },
  {
   "cell_type": "code",
   "execution_count": null,
   "metadata": {},
   "outputs": [],
   "source": [
    "luminosityratio = fluxratio*distance**2\n",
    "luminosityratio  # approx number of stars. should be 500000"
   ]
  },
  {
   "cell_type": "markdown",
   "metadata": {},
   "source": [
    "# Plummer Model and Radial Profile\n",
    "We want to plot a Plummer Model for the star cluster. It has the functional form:\n",
    "$$\\rho(r) = \\frac{3M}{4 \\pi a^3} \\left(1+\\frac{r^2}{a^2}\\right)^{-5/2}$$\n",
    "$$\\Sigma(r) = \\frac{M}{\\pi a^2}\\frac1{\\left(1+\\frac{r^2}{a^2}\\right)^2}$$\n",
    "The first step is to fint the centre of the cluster."
   ]
  },
  {
   "cell_type": "code",
   "execution_count": null,
   "metadata": {},
   "outputs": [],
   "source": [
    "xl = np.linspace(0,m3c.shape[0]-1,m3c.shape[0])\n",
    "yl = np.linspace(0,m3c.shape[1]-1,m3c.shape[1])\n",
    "xx, yy = np.meshgrid(yl,xl)"
   ]
  },
  {
   "cell_type": "code",
   "execution_count": null,
   "metadata": {},
   "outputs": [],
   "source": [
    "cx = np.sum(xx*m3c)/np.sum(m3c)\n",
    "cy = np.sum(yy*m3c)/np.sum(m3c)\n",
    "cx,cy"
   ]
  },
  {
   "cell_type": "code",
   "execution_count": null,
   "metadata": {},
   "outputs": [],
   "source": [
    "fig, ax4 = plt.subplots(1, 1, figsize=(4, 4))\n",
    "ax4.imshow(m3c,vmin=0,vmax=255)\n",
    "ax4.plot(cx, cy, 'r+')"
   ]
  },
  {
   "cell_type": "markdown",
   "metadata": {},
   "source": [
    "Next, we create radial bins and sum of the light contribution in each bin."
   ]
  },
  {
   "cell_type": "code",
   "execution_count": null,
   "metadata": {},
   "outputs": [],
   "source": [
    "rr = np.sqrt(np.power(xx-cx,2) + np.power(yy-cy,2))"
   ]
  },
  {
   "cell_type": "code",
   "execution_count": null,
   "metadata": {},
   "outputs": [],
   "source": [
    "rbins = np.linspace(0,500,500)\n",
    "dbins = np.linspace(0,500,500)\n",
    "nbins = np.linspace(0,500,500)\n",
    "rf, mf = rr.flatten(), m3c.flatten()\n",
    "for j in range(len(mf)):\n",
    "    i = int(rf[j])\n",
    "    if i<500:\n",
    "        dbins[i] += mf[j]\n",
    "        nbins[i] += 1"
   ]
  },
  {
   "cell_type": "code",
   "execution_count": null,
   "metadata": {},
   "outputs": [],
   "source": [
    "def Sigma(r,m,a):\n",
    "    return m/(np.pi*a**2)/(1.+(rbins/a)**2)**2\n",
    "fig, ax5 = plt.subplots(1, 1, figsize=(4, 4))\n",
    "ax5.plot(rbins,dbins/nbins)\n",
    "m = s3\n",
    "a = 1800 # fit a!\n",
    "ax5.plot(rbins,Sigma(rbins,m,a))"
   ]
  },
  {
   "cell_type": "markdown",
   "metadata": {},
   "source": [
    "The half mass radius is defined as $1.3*a$."
   ]
  },
  {
   "cell_type": "code",
   "execution_count": null,
   "metadata": {},
   "outputs": [],
   "source": [
    "rh = 1.3 * a # in pixels for now"
   ]
  },
  {
   "cell_type": "markdown",
   "metadata": {
    "collapsed": true
   },
   "source": [
    "Next, we use the focal length of telescope (1600mm), the size of the sensor (22.2 mm × 14.8 mm), and the number of pixels on our sensor (4,272 × 2,848) to determine the angular size corresponding to one pixel."
   ]
  },
  {
   "cell_type": "code",
   "execution_count": null,
   "metadata": {},
   "outputs": [],
   "source": [
    "#size of 1 pixel\n",
    "sp1, sp2 = 22.2/4272, 14.8/2848\n",
    "sp1,sp2"
   ]
  },
  {
   "cell_type": "code",
   "execution_count": null,
   "metadata": {},
   "outputs": [],
   "source": [
    "# angular resolution of 1 pixel (radian)\n",
    "ar = 2*np.arctan(sp1/(2.*1600.))\n",
    "ar"
   ]
  },
  {
   "cell_type": "code",
   "execution_count": null,
   "metadata": {},
   "outputs": [],
   "source": [
    "sizeofM3 = rh*ar*180/np.pi*60 # in arcmin\n",
    "sizeofM3  # should be 2.31 arcmin "
   ]
  },
  {
   "cell_type": "code",
   "execution_count": null,
   "metadata": {},
   "outputs": [],
   "source": [
    "sizeofM3pc = rh*ar*10.4e3  # in parsec, using small angle approximation (which is really good here!)\n",
    "sizeofM3pc"
   ]
  }
 ],
 "metadata": {
  "kernelspec": {
   "display_name": "Python 3",
   "language": "python",
   "name": "python3"
  },
  "language_info": {
   "codemirror_mode": {
    "name": "ipython",
    "version": 3
   },
   "file_extension": ".py",
   "mimetype": "text/x-python",
   "name": "python",
   "nbconvert_exporter": "python",
   "pygments_lexer": "ipython3",
   "version": "3.4.2"
  }
 },
 "nbformat": 4,
 "nbformat_minor": 2
}
